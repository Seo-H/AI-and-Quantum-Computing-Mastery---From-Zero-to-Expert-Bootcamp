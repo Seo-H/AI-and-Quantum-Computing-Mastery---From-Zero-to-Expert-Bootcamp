{
 "cells": [
  {
   "cell_type": "code",
   "execution_count": 1,
   "id": "c00ce721-e1e4-406a-a6ea-76165c4eabc0",
   "metadata": {},
   "outputs": [
    {
     "name": "stdout",
     "output_type": "stream",
     "text": [
      "Requirement already satisfied: qiskit in /Library/Frameworks/Python.framework/Versions/3.12/lib/python3.12/site-packages (1.4.2)\n",
      "Requirement already satisfied: qiskit-nature in /Library/Frameworks/Python.framework/Versions/3.12/lib/python3.12/site-packages (0.7.2)\n",
      "Requirement already satisfied: qiskit-algorithms in /Library/Frameworks/Python.framework/Versions/3.12/lib/python3.12/site-packages (0.3.1)\n",
      "Requirement already satisfied: pyscf in /Library/Frameworks/Python.framework/Versions/3.12/lib/python3.12/site-packages (2.8.0)\n",
      "Requirement already satisfied: rustworkx>=0.15.0 in /Library/Frameworks/Python.framework/Versions/3.12/lib/python3.12/site-packages (from qiskit) (0.16.0)\n",
      "Requirement already satisfied: numpy<3,>=1.17 in /Library/Frameworks/Python.framework/Versions/3.12/lib/python3.12/site-packages (from qiskit) (2.2.3)\n",
      "Requirement already satisfied: scipy>=1.5 in /Library/Frameworks/Python.framework/Versions/3.12/lib/python3.12/site-packages (from qiskit) (1.13.1)\n",
      "Requirement already satisfied: sympy>=1.3 in /Library/Frameworks/Python.framework/Versions/3.12/lib/python3.12/site-packages (from qiskit) (1.13.1)\n",
      "Requirement already satisfied: dill>=0.3 in /Library/Frameworks/Python.framework/Versions/3.12/lib/python3.12/site-packages (from qiskit) (0.3.8)\n",
      "Requirement already satisfied: python-dateutil>=2.8.0 in /Library/Frameworks/Python.framework/Versions/3.12/lib/python3.12/site-packages (from qiskit) (2.9.0.post0)\n",
      "Requirement already satisfied: stevedore>=3.0.0 in /Library/Frameworks/Python.framework/Versions/3.12/lib/python3.12/site-packages (from qiskit) (5.4.1)\n",
      "Requirement already satisfied: typing-extensions in /Library/Frameworks/Python.framework/Versions/3.12/lib/python3.12/site-packages (from qiskit) (4.12.2)\n",
      "Requirement already satisfied: symengine<0.14,>=0.11 in /Library/Frameworks/Python.framework/Versions/3.12/lib/python3.12/site-packages (from qiskit) (0.13.0)\n",
      "Requirement already satisfied: psutil>=5 in /Library/Frameworks/Python.framework/Versions/3.12/lib/python3.12/site-packages (from qiskit-nature) (6.1.0)\n",
      "Requirement already satisfied: setuptools>=40.1.0 in /Library/Frameworks/Python.framework/Versions/3.12/lib/python3.12/site-packages (from qiskit-nature) (75.8.2)\n",
      "Requirement already satisfied: h5py in /Library/Frameworks/Python.framework/Versions/3.12/lib/python3.12/site-packages (from qiskit-nature) (3.12.1)\n",
      "Requirement already satisfied: six>=1.5 in /Library/Frameworks/Python.framework/Versions/3.12/lib/python3.12/site-packages (from python-dateutil>=2.8.0->qiskit) (1.16.0)\n",
      "Requirement already satisfied: pbr>=2.0.0 in /Library/Frameworks/Python.framework/Versions/3.12/lib/python3.12/site-packages (from stevedore>=3.0.0->qiskit) (6.1.1)\n",
      "Requirement already satisfied: mpmath<1.4,>=1.1.0 in /Library/Frameworks/Python.framework/Versions/3.12/lib/python3.12/site-packages (from sympy>=1.3->qiskit) (1.3.0)\n",
      "Note: you may need to restart the kernel to use updated packages.\n"
     ]
    }
   ],
   "source": [
    "pip install qiskit qiskit-nature qiskit-algorithms pyscf"
   ]
  },
  {
   "cell_type": "code",
   "execution_count": 3,
   "id": "d41a0af4-6c88-4e01-ba98-1a1d3f64d54b",
   "metadata": {},
   "outputs": [
    {
     "name": "stdout",
     "output_type": "stream",
     "text": [
      "Estimated ground state energy: -1.1373 Hartree\n"
     ]
    }
   ],
   "source": [
    "import numpy as np\n",
    "from qiskit_nature.second_q.problems import ElectronicStructureProblem\n",
    "from qiskit_nature.second_q.drivers import PySCFDriver\n",
    "from qiskit_nature.second_q.transformers import FreezeCoreTransformer\n",
    "from qiskit_nature.second_q.mappers import JordanWignerMapper\n",
    "from qiskit_algorithms import VQE\n",
    "from qiskit.circuit.library import TwoLocal\n",
    "from qiskit_algorithms.optimizers import COBYLA\n",
    "from qiskit.primitives import Estimator\n",
    "\n",
    "# Define molecule (H2) geometry\n",
    "molecule_geometry = \"H 0 0 0; H 0 0 0.735\"\n",
    "\n",
    "# Use PySCFDriver to compute molecular orbitals\n",
    "driver = PySCFDriver(atom=molecule_geometry, basis=\"sto3g\")\n",
    "\n",
    "# Define electronic structure problem\n",
    "es_problem = ElectronicStructureProblem(driver)\n",
    "\n",
    "# Apply freeze-core approximation (optional)\n",
    "transformer = FreezeCoreTransformer()\n",
    "es_problem = transformer.transform(es_problem)\n",
    "\n",
    "# Map to qubit space using Jordan-Wigner transformation\n",
    "mapper = JordanWignerMapper()\n",
    "\n",
    "# Define a variational ansatz (Two-Local circuit)\n",
    "ansatz = TwoLocal(rotation_blocks=[\"ry\", \"rz\"], entanglement_blocks=\"cz\")\n",
    "\n",
    "# Define optimizer\n",
    "optimizer = COBYLA(maxiter=100)\n",
    "\n",
    "# Initialize estimator primitive (Updated for Qiskit 1.2+)\n",
    "estimator = Estimator()\n",
    "\n",
    "# Set up VQE algorithm\n",
    "vqe = VQE(estimator, ansatz, optimizer)\n",
    "\n",
    "# Compute ground state energy\n",
    "hamiltonian = mapper.map(es_problem.hamiltonian.second_q_op())\n",
    "result = vqe.compute_minimum_eigenvalue(hamiltonian)\n",
    "print(f\"Estimated ground state energy: {result.optimal_value:.4f} Hartree\")\n"
   ]
  },
  {
   "cell_type": "code",
   "execution_count": null,
   "id": "33d3fdae-1af7-48da-8b52-1e0c97b0dd9c",
   "metadata": {},
   "outputs": [],
   "source": []
  }
 ],
 "metadata": {
  "kernelspec": {
   "display_name": "Python 3 (ipykernel)",
   "language": "python",
   "name": "python3"
  },
  "language_info": {
   "codemirror_mode": {
    "name": "ipython",
    "version": 3
   },
   "file_extension": ".py",
   "mimetype": "text/x-python",
   "name": "python",
   "nbconvert_exporter": "python",
   "pygments_lexer": "ipython3",
   "version": "3.12.7"
  }
 },
 "nbformat": 4,
 "nbformat_minor": 5
}
