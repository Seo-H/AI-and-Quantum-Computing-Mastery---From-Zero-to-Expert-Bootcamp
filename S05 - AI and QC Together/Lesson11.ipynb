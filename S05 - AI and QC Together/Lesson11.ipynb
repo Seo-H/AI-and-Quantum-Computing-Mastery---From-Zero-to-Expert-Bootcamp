{
 "cells": [
  {
   "cell_type": "code",
   "execution_count": 1,
   "id": "ad5d9f62-5616-4891-b10d-c27216af4897",
   "metadata": {},
   "outputs": [
    {
     "name": "stdout",
     "output_type": "stream",
     "text": [
      "Requirement already satisfied: qiskit in /Library/Frameworks/Python.framework/Versions/3.12/lib/python3.12/site-packages (1.4.2)\n",
      "Requirement already satisfied: qiskit-machine-learning in /Library/Frameworks/Python.framework/Versions/3.12/lib/python3.12/site-packages (0.8.2)\n",
      "Requirement already satisfied: qiskit-algorithms in /Library/Frameworks/Python.framework/Versions/3.12/lib/python3.12/site-packages (0.3.1)\n",
      "Requirement already satisfied: numpy in /Library/Frameworks/Python.framework/Versions/3.12/lib/python3.12/site-packages (2.2.3)\n",
      "Requirement already satisfied: matplotlib in /Library/Frameworks/Python.framework/Versions/3.12/lib/python3.12/site-packages (3.10.1)\n",
      "Requirement already satisfied: scikit-learn in /Library/Frameworks/Python.framework/Versions/3.12/lib/python3.12/site-packages (1.6.1)\n",
      "Requirement already satisfied: rustworkx>=0.15.0 in /Library/Frameworks/Python.framework/Versions/3.12/lib/python3.12/site-packages (from qiskit) (0.16.0)\n",
      "Requirement already satisfied: scipy>=1.5 in /Library/Frameworks/Python.framework/Versions/3.12/lib/python3.12/site-packages (from qiskit) (1.13.1)\n",
      "Requirement already satisfied: sympy>=1.3 in /Library/Frameworks/Python.framework/Versions/3.12/lib/python3.12/site-packages (from qiskit) (1.13.1)\n",
      "Requirement already satisfied: dill>=0.3 in /Library/Frameworks/Python.framework/Versions/3.12/lib/python3.12/site-packages (from qiskit) (0.3.8)\n",
      "Requirement already satisfied: python-dateutil>=2.8.0 in /Library/Frameworks/Python.framework/Versions/3.12/lib/python3.12/site-packages (from qiskit) (2.9.0.post0)\n",
      "Requirement already satisfied: stevedore>=3.0.0 in /Library/Frameworks/Python.framework/Versions/3.12/lib/python3.12/site-packages (from qiskit) (5.4.1)\n",
      "Requirement already satisfied: typing-extensions in /Library/Frameworks/Python.framework/Versions/3.12/lib/python3.12/site-packages (from qiskit) (4.12.2)\n",
      "Requirement already satisfied: symengine<0.14,>=0.11 in /Library/Frameworks/Python.framework/Versions/3.12/lib/python3.12/site-packages (from qiskit) (0.13.0)\n",
      "Requirement already satisfied: psutil>=5 in /Library/Frameworks/Python.framework/Versions/3.12/lib/python3.12/site-packages (from qiskit-machine-learning) (6.1.0)\n",
      "Requirement already satisfied: setuptools>=40.1 in /Library/Frameworks/Python.framework/Versions/3.12/lib/python3.12/site-packages (from qiskit-machine-learning) (75.8.2)\n",
      "Requirement already satisfied: contourpy>=1.0.1 in /Library/Frameworks/Python.framework/Versions/3.12/lib/python3.12/site-packages (from matplotlib) (1.3.0)\n",
      "Requirement already satisfied: cycler>=0.10 in /Library/Frameworks/Python.framework/Versions/3.12/lib/python3.12/site-packages (from matplotlib) (0.12.1)\n",
      "Requirement already satisfied: fonttools>=4.22.0 in /Library/Frameworks/Python.framework/Versions/3.12/lib/python3.12/site-packages (from matplotlib) (4.54.1)\n",
      "Requirement already satisfied: kiwisolver>=1.3.1 in /Library/Frameworks/Python.framework/Versions/3.12/lib/python3.12/site-packages (from matplotlib) (1.4.7)\n",
      "Requirement already satisfied: packaging>=20.0 in /Library/Frameworks/Python.framework/Versions/3.12/lib/python3.12/site-packages (from matplotlib) (24.1)\n",
      "Requirement already satisfied: pillow>=8 in /Library/Frameworks/Python.framework/Versions/3.12/lib/python3.12/site-packages (from matplotlib) (11.0.0)\n",
      "Requirement already satisfied: pyparsing>=2.3.1 in /Library/Frameworks/Python.framework/Versions/3.12/lib/python3.12/site-packages (from matplotlib) (3.2.0)\n",
      "Requirement already satisfied: joblib>=1.2.0 in /Library/Frameworks/Python.framework/Versions/3.12/lib/python3.12/site-packages (from scikit-learn) (1.4.2)\n",
      "Requirement already satisfied: threadpoolctl>=3.1.0 in /Library/Frameworks/Python.framework/Versions/3.12/lib/python3.12/site-packages (from scikit-learn) (3.5.0)\n",
      "Requirement already satisfied: six>=1.5 in /Library/Frameworks/Python.framework/Versions/3.12/lib/python3.12/site-packages (from python-dateutil>=2.8.0->qiskit) (1.16.0)\n",
      "Requirement already satisfied: pbr>=2.0.0 in /Library/Frameworks/Python.framework/Versions/3.12/lib/python3.12/site-packages (from stevedore>=3.0.0->qiskit) (6.1.1)\n",
      "Requirement already satisfied: mpmath<1.4,>=1.1.0 in /Library/Frameworks/Python.framework/Versions/3.12/lib/python3.12/site-packages (from sympy>=1.3->qiskit) (1.3.0)\n",
      "Note: you may need to restart the kernel to use updated packages.\n"
     ]
    }
   ],
   "source": [
    "pip install --upgrade qiskit qiskit-machine-learning qiskit-algorithms numpy matplotlib scikit-learn\n"
   ]
  },
  {
   "cell_type": "code",
   "execution_count": 2,
   "id": "72658990-78e4-4e99-9f22-16e6d29b66f9",
   "metadata": {},
   "outputs": [
    {
     "name": "stdout",
     "output_type": "stream",
     "text": [
      "Quantum Kernel SVM Accuracy: 60.00%\n"
     ]
    }
   ],
   "source": [
    "import numpy as np\n",
    "from qiskit.primitives import StatevectorSampler \n",
    "from qiskit_machine_learning.kernels import FidelityQuantumKernel  \n",
    "from qiskit.circuit.library import ZZFeatureMap\n",
    "from sklearn.svm import SVC\n",
    "from sklearn.model_selection import train_test_split\n",
    "from sklearn.preprocessing import StandardScaler\n",
    "from sklearn.datasets import make_moons\n",
    "\n",
    "# ✅ Step 1: Custom Fidelity Function for Quantum Kernel\n",
    "def custom_fidelity(sampler, circuit_1, circuit_2):\n",
    "    \"\"\"\n",
    "    Compute the fidelity between two quantum states using the StatevectorSampler primitive.\n",
    "    \"\"\"\n",
    "    combined_circuit = circuit_1.compose(circuit_2.inverse())  # Combine the circuits\n",
    "    job = sampler.run([combined_circuit])  \n",
    "    result = job.result()\n",
    "    probabilities = result.quasi_dists[0]\n",
    "\n",
    "    # Fidelity is the probability of measuring the all-zero state\n",
    "    fidelity = probabilities.get(0, 0)  \n",
    "    return fidelity\n",
    "\n",
    "# ✅ Step 2: Generate Synthetic Dataset (Two-Moons Dataset)\n",
    "X, y = make_moons(n_samples=100, noise=0.1, random_state=42)\n",
    "\n",
    "# Normalize the data\n",
    "scaler = StandardScaler()\n",
    "X_scaled = scaler.fit_transform(X)\n",
    "\n",
    "# Split into training and testing sets\n",
    "X_train, X_test, y_train, y_test = train_test_split(X_scaled, y, test_size=0.2, random_state=42)\n",
    "\n",
    "# ✅ Step 3: Define Quantum Feature Map\n",
    "feature_map = ZZFeatureMap(feature_dimension=2, reps=2, entanglement='linear')\n",
    "\n",
    "# ✅ Step 4: Initialize the Updated Sampler\n",
    "sampler = StatevectorSampler() \n",
    "\n",
    "# ✅ Step 5: Define Fidelity Quantum Kernel with Custom Fidelity Function\n",
    "class CustomFidelityQuantumKernel(FidelityQuantumKernel):\n",
    "    def __init__(self, feature_map, sampler):\n",
    "        super().__init__(feature_map=feature_map, fidelity=None) \n",
    "        self.sampler = sampler\n",
    "\n",
    "    def _compute_fidelity(self, circuit_1, circuit_2):\n",
    "        return custom_fidelity(self.sampler, circuit_1, circuit_2)\n",
    "\n",
    "# ✅ Step 6: Compute the Quantum Kernel Matrix\n",
    "quantum_kernel = CustomFidelityQuantumKernel(feature_map=feature_map, sampler=sampler)\n",
    "\n",
    "X_train_kernel = quantum_kernel.evaluate(X_train)\n",
    "X_test_kernel = quantum_kernel.evaluate(X_test, X_train)\n",
    "\n",
    "# ✅ Step 7: Train a Classical Support Vector Machine (SVM) with the Quantum Kernel\n",
    "svm = SVC(kernel=\"precomputed\")  \n",
    "svm.fit(X_train_kernel, y_train)\n",
    "\n",
    "# ✅ Step 8: Evaluate Model Accuracy\n",
    "y_pred = svm.predict(X_test_kernel)\n",
    "\n",
    "accuracy = np.mean(y_pred == y_test)\n",
    "print(f\"Quantum Kernel SVM Accuracy: {accuracy * 100:.2f}%\")\n",
    "\n"
   ]
  },
  {
   "cell_type": "code",
   "execution_count": null,
   "id": "98a7ee60-af00-4b31-9e56-bef3ae95ac2f",
   "metadata": {},
   "outputs": [],
   "source": []
  }
 ],
 "metadata": {
  "kernelspec": {
   "display_name": "Python 3 (ipykernel)",
   "language": "python",
   "name": "python3"
  },
  "language_info": {
   "codemirror_mode": {
    "name": "ipython",
    "version": 3
   },
   "file_extension": ".py",
   "mimetype": "text/x-python",
   "name": "python",
   "nbconvert_exporter": "python",
   "pygments_lexer": "ipython3",
   "version": "3.12.7"
  }
 },
 "nbformat": 4,
 "nbformat_minor": 5
}
