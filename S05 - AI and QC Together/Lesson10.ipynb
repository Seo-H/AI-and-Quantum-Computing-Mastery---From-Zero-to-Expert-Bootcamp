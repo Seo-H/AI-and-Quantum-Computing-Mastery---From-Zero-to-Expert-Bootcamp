{
 "cells": [
  {
   "cell_type": "code",
   "execution_count": 1,
   "id": "44f519ac-8021-4b48-a64e-2118ee96cf7c",
   "metadata": {},
   "outputs": [
    {
     "name": "stdout",
     "output_type": "stream",
     "text": [
      "Requirement already satisfied: qiskit in /Library/Frameworks/Python.framework/Versions/3.12/lib/python3.12/site-packages (1.4.2)\n",
      "Requirement already satisfied: qiskit-machine-learning in /Library/Frameworks/Python.framework/Versions/3.12/lib/python3.12/site-packages (0.8.2)\n",
      "Requirement already satisfied: qiskit-algorithms in /Library/Frameworks/Python.framework/Versions/3.12/lib/python3.12/site-packages (0.3.1)\n",
      "Requirement already satisfied: numpy in /Library/Frameworks/Python.framework/Versions/3.12/lib/python3.12/site-packages (2.2.3)\n",
      "Requirement already satisfied: matplotlib in /Library/Frameworks/Python.framework/Versions/3.12/lib/python3.12/site-packages (3.10.1)\n",
      "Requirement already satisfied: rustworkx>=0.15.0 in /Library/Frameworks/Python.framework/Versions/3.12/lib/python3.12/site-packages (from qiskit) (0.16.0)\n",
      "Requirement already satisfied: scipy>=1.5 in /Library/Frameworks/Python.framework/Versions/3.12/lib/python3.12/site-packages (from qiskit) (1.13.1)\n",
      "Requirement already satisfied: sympy>=1.3 in /Library/Frameworks/Python.framework/Versions/3.12/lib/python3.12/site-packages (from qiskit) (1.13.1)\n",
      "Requirement already satisfied: dill>=0.3 in /Library/Frameworks/Python.framework/Versions/3.12/lib/python3.12/site-packages (from qiskit) (0.3.8)\n",
      "Requirement already satisfied: python-dateutil>=2.8.0 in /Library/Frameworks/Python.framework/Versions/3.12/lib/python3.12/site-packages (from qiskit) (2.9.0.post0)\n",
      "Requirement already satisfied: stevedore>=3.0.0 in /Library/Frameworks/Python.framework/Versions/3.12/lib/python3.12/site-packages (from qiskit) (5.4.1)\n",
      "Requirement already satisfied: typing-extensions in /Library/Frameworks/Python.framework/Versions/3.12/lib/python3.12/site-packages (from qiskit) (4.12.2)\n",
      "Requirement already satisfied: symengine<0.14,>=0.11 in /Library/Frameworks/Python.framework/Versions/3.12/lib/python3.12/site-packages (from qiskit) (0.13.0)\n",
      "Requirement already satisfied: psutil>=5 in /Library/Frameworks/Python.framework/Versions/3.12/lib/python3.12/site-packages (from qiskit-machine-learning) (6.1.0)\n",
      "Requirement already satisfied: scikit-learn>=1.2 in /Library/Frameworks/Python.framework/Versions/3.12/lib/python3.12/site-packages (from qiskit-machine-learning) (1.6.1)\n",
      "Requirement already satisfied: setuptools>=40.1 in /Library/Frameworks/Python.framework/Versions/3.12/lib/python3.12/site-packages (from qiskit-machine-learning) (75.8.2)\n",
      "Requirement already satisfied: contourpy>=1.0.1 in /Library/Frameworks/Python.framework/Versions/3.12/lib/python3.12/site-packages (from matplotlib) (1.3.0)\n",
      "Requirement already satisfied: cycler>=0.10 in /Library/Frameworks/Python.framework/Versions/3.12/lib/python3.12/site-packages (from matplotlib) (0.12.1)\n",
      "Requirement already satisfied: fonttools>=4.22.0 in /Library/Frameworks/Python.framework/Versions/3.12/lib/python3.12/site-packages (from matplotlib) (4.54.1)\n",
      "Requirement already satisfied: kiwisolver>=1.3.1 in /Library/Frameworks/Python.framework/Versions/3.12/lib/python3.12/site-packages (from matplotlib) (1.4.7)\n",
      "Requirement already satisfied: packaging>=20.0 in /Library/Frameworks/Python.framework/Versions/3.12/lib/python3.12/site-packages (from matplotlib) (24.1)\n",
      "Requirement already satisfied: pillow>=8 in /Library/Frameworks/Python.framework/Versions/3.12/lib/python3.12/site-packages (from matplotlib) (11.0.0)\n",
      "Requirement already satisfied: pyparsing>=2.3.1 in /Library/Frameworks/Python.framework/Versions/3.12/lib/python3.12/site-packages (from matplotlib) (3.2.0)\n",
      "Requirement already satisfied: six>=1.5 in /Library/Frameworks/Python.framework/Versions/3.12/lib/python3.12/site-packages (from python-dateutil>=2.8.0->qiskit) (1.16.0)\n",
      "Requirement already satisfied: joblib>=1.2.0 in /Library/Frameworks/Python.framework/Versions/3.12/lib/python3.12/site-packages (from scikit-learn>=1.2->qiskit-machine-learning) (1.4.2)\n",
      "Requirement already satisfied: threadpoolctl>=3.1.0 in /Library/Frameworks/Python.framework/Versions/3.12/lib/python3.12/site-packages (from scikit-learn>=1.2->qiskit-machine-learning) (3.5.0)\n",
      "Requirement already satisfied: pbr>=2.0.0 in /Library/Frameworks/Python.framework/Versions/3.12/lib/python3.12/site-packages (from stevedore>=3.0.0->qiskit) (6.1.1)\n",
      "Requirement already satisfied: mpmath<1.4,>=1.1.0 in /Library/Frameworks/Python.framework/Versions/3.12/lib/python3.12/site-packages (from sympy>=1.3->qiskit) (1.3.0)\n",
      "Note: you may need to restart the kernel to use updated packages.\n"
     ]
    }
   ],
   "source": [
    "pip install --upgrade qiskit qiskit-machine-learning qiskit-algorithms numpy matplotlib\n"
   ]
  },
  {
   "cell_type": "code",
   "execution_count": 2,
   "id": "36485c7d-5030-4518-91d9-b3a36698d51a",
   "metadata": {},
   "outputs": [
    {
     "name": "stdout",
     "output_type": "stream",
     "text": [
      "VQC Accuracy: 75.00%\n"
     ]
    }
   ],
   "source": [
    "# Import required libraries\n",
    "import numpy as np\n",
    "import matplotlib.pyplot as plt\n",
    "from qiskit_aer import Aer\n",
    "from qiskit.primitives import StatevectorSampler  # ✅ Updated to latest sampler\n",
    "from qiskit_machine_learning.algorithms.classifiers import VQC\n",
    "from qiskit_machine_learning.kernels import FidelityQuantumKernel\n",
    "from qiskit.circuit.library import ZZFeatureMap, RealAmplitudes\n",
    "from qiskit_algorithms.optimizers import COBYLA\n",
    "from qiskit.transpiler import PassManager\n",
    "from qiskit.transpiler.passes import Optimize1qGatesDecomposition, CommutativeCancellation\n",
    "from sklearn.model_selection import train_test_split\n",
    "from sklearn.preprocessing import StandardScaler\n",
    "from sklearn.datasets import make_classification\n",
    "\n",
    "# ✅ Step 1: Generate and Preprocess Data\n",
    "X, y = make_classification(n_samples=100, \n",
    "                           n_features=2,    # Total number of features\n",
    "                           n_informative=2, # Ensure sum ≤ total features\n",
    "                           n_redundant=0,   # No redundant features\n",
    "                           n_clusters_per_class=1, \n",
    "                           random_state=42)\n",
    "\n",
    "# Normalize the data\n",
    "scaler = StandardScaler()\n",
    "X_scaled = scaler.fit_transform(X)\n",
    "\n",
    "# Split into training and testing sets\n",
    "X_train, X_test, y_train, y_test = train_test_split(X_scaled, y, test_size=0.2, random_state=42)\n",
    "\n",
    "# ✅ Step 2: Define Quantum Feature Map\n",
    "feature_map = ZZFeatureMap(feature_dimension=2, reps=2, entanglement='linear')\n",
    "\n",
    "# ✅ Step 3: Define Variational Quantum Circuit (Ansatz)\n",
    "ansatz = RealAmplitudes(num_qubits=2, reps=3, entanglement='linear')\n",
    "\n",
    "# ✅ Step 4: Initialize the StatevectorSampler (Updated for Qiskit 1.2+)\n",
    "sampler = StatevectorSampler()\n",
    "\n",
    "# ✅ Step 5: Define Fidelity Quantum Kernel\n",
    "quantum_kernel = FidelityQuantumKernel(feature_map=feature_map, fidelity=sampler)\n",
    "\n",
    "# ✅ Step 6: Instantiate the Optimizer (Corrected Import)\n",
    "optimizer = COBYLA(maxiter=100)  # ✅ Ensure optimizer is an instance, not a string\n",
    "\n",
    "# ✅ Step 7: Define a Custom Pass Manager for Transpilation (Fixes Warnings)\n",
    "pass_manager = PassManager([\n",
    "    Optimize1qGatesDecomposition(basis=['u3', 'cx']),\n",
    "    CommutativeCancellation()\n",
    "])\n",
    "\n",
    "# ✅ Step 8: Define the Variational Quantum Classifier (VQC)\n",
    "vqc = VQC(\n",
    "    feature_map=feature_map,\n",
    "    ansatz=ansatz,\n",
    "    optimizer=optimizer,\n",
    "    sampler=sampler,\n",
    "    pass_manager=pass_manager  # ✅ Provide pass manager to avoid transpilation warnings\n",
    ")\n",
    "\n",
    "# ✅ Step 9: Train the VQC Model\n",
    "vqc.fit(X_train, y_train)\n",
    "\n",
    "# ✅ Step 10: Evaluate the Model\n",
    "y_pred = vqc.predict(X_test)\n",
    "\n",
    "# Calculate accuracy\n",
    "accuracy = np.mean(y_pred == y_test)\n",
    "print(f\"VQC Accuracy: {accuracy * 100:.2f}%\")\n"
   ]
  },
  {
   "cell_type": "code",
   "execution_count": null,
   "id": "6b3065c7-a4f0-43e3-aa92-75df1082f5ae",
   "metadata": {},
   "outputs": [],
   "source": []
  }
 ],
 "metadata": {
  "kernelspec": {
   "display_name": "Python 3 (ipykernel)",
   "language": "python",
   "name": "python3"
  },
  "language_info": {
   "codemirror_mode": {
    "name": "ipython",
    "version": 3
   },
   "file_extension": ".py",
   "mimetype": "text/x-python",
   "name": "python",
   "nbconvert_exporter": "python",
   "pygments_lexer": "ipython3",
   "version": "3.12.7"
  }
 },
 "nbformat": 4,
 "nbformat_minor": 5
}
