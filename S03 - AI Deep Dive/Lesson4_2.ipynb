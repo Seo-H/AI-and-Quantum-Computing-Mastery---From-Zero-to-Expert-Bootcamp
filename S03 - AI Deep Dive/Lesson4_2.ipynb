{
 "cells": [
  {
   "cell_type": "code",
   "execution_count": 4,
   "id": "8cbd3526-2ef5-4556-9302-3879ad6e7f76",
   "metadata": {},
   "outputs": [
    {
     "name": "stdout",
     "output_type": "stream",
     "text": [
      "DataFrame:\n",
      "       Name  Age  Salary\n",
      "0    Alice   25   50000\n",
      "1      Bob   30   60000\n",
      "2  Charlie   35   70000\n",
      "      Name  Age  Salary\n",
      "0    Alice   25   50000\n",
      "1      Bob   30   60000\n",
      "2  Charlie   35   70000\n",
      "        Age   Salary\n",
      "count   3.0      3.0\n",
      "mean   30.0  60000.0\n",
      "std     5.0  10000.0\n",
      "min    25.0  50000.0\n",
      "25%    27.5  55000.0\n",
      "50%    30.0  60000.0\n",
      "75%    32.5  65000.0\n",
      "max    35.0  70000.0\n",
      "Filtered Data:\n",
      "       Name  Age  Salary\n",
      "2  Charlie   35   70000\n"
     ]
    }
   ],
   "source": [
    "import pandas as pd\n",
    "\n",
    "# Creating a DataFrame\n",
    "data = {'Name': ['Alice', 'Bob', 'Charlie'], 'Age': [25, 30, 35], 'Salary': [50000, 60000, 70000]}\n",
    "df = pd.DataFrame(data)\n",
    "print(\"DataFrame:\\n\", df)\n",
    "\n",
    "# Reading data from a CSV file\n",
    "# df = pd.read_csv(\"data.csv\")\n",
    "\n",
    "# Display the first 5 rows\n",
    "print(df.head())\n",
    "\n",
    "# Descriptive statistics of numerical columns\n",
    "print(df.describe())\n",
    "\n",
    "# Handling missing values\n",
    "df.fillna(0, inplace=True)\n",
    "\n",
    "# Filtering data\n",
    "filtered_df = df[df[\"Age\"] > 30]\n",
    "print(\"Filtered Data:\\n\", filtered_df)\n",
    "\n"
   ]
  },
  {
   "cell_type": "code",
   "execution_count": null,
   "id": "ddd26c07-bc8c-49c8-b0f3-3cab59b381c1",
   "metadata": {},
   "outputs": [],
   "source": []
  }
 ],
 "metadata": {
  "kernelspec": {
   "display_name": "Python 3 (ipykernel)",
   "language": "python",
   "name": "python3"
  },
  "language_info": {
   "codemirror_mode": {
    "name": "ipython",
    "version": 3
   },
   "file_extension": ".py",
   "mimetype": "text/x-python",
   "name": "python",
   "nbconvert_exporter": "python",
   "pygments_lexer": "ipython3",
   "version": "3.12.7"
  }
 },
 "nbformat": 4,
 "nbformat_minor": 5
}
