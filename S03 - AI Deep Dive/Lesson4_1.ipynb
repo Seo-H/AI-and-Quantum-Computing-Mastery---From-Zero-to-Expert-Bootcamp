{
 "cells": [
  {
   "cell_type": "code",
   "execution_count": 7,
   "id": "20f6c0c2-50b5-4f19-96ef-887771aca7e5",
   "metadata": {},
   "outputs": [
    {
     "name": "stdout",
     "output_type": "stream",
     "text": [
      "Array: [1 2 3 4 5]\n",
      "Reshaped Matrix:\n",
      " [[1]\n",
      " [2]\n",
      " [3]\n",
      " [4]\n",
      " [5]]\n",
      "Squared Array: [ 1  4  9 16 25]\n",
      "Random Matrix:\n",
      " [[0.48027518 0.97116906 0.90749652]\n",
      " [0.57457302 0.49921085 0.75261578]\n",
      " [0.86705718 0.50869352 0.34826314]]\n"
     ]
    }
   ],
   "source": [
    "import numpy as np\n",
    "\n",
    "# Creating a NumPy array\n",
    "arr = np.array([1, 2, 3, 4, 5])\n",
    "print(\"Array:\", arr)\n",
    "\n",
    "# Reshaping an array\n",
    "matrix = arr.reshape(5, 1)\n",
    "print(\"Reshaped Matrix:\\n\", matrix)\n",
    "\n",
    "# Performing mathematical operations\n",
    "arr_squared = arr ** 2\n",
    "print(\"Squared Array:\", arr_squared)\n",
    "\n",
    "# Generating a random matrix\n",
    "random_matrix = np.random.rand(3, 3)\n",
    "print(\"Random Matrix:\\n\", random_matrix)\n"
   ]
  },
  {
   "cell_type": "code",
   "execution_count": null,
   "id": "8dabaee9-c7b2-45f2-a877-75295467a3cc",
   "metadata": {},
   "outputs": [],
   "source": []
  },
  {
   "cell_type": "code",
   "execution_count": null,
   "id": "10f4ea98-db12-4bf4-987c-e39f860a56c6",
   "metadata": {},
   "outputs": [],
   "source": []
  }
 ],
 "metadata": {
  "kernelspec": {
   "display_name": "Python 3 (ipykernel)",
   "language": "python",
   "name": "python3"
  },
  "language_info": {
   "codemirror_mode": {
    "name": "ipython",
    "version": 3
   },
   "file_extension": ".py",
   "mimetype": "text/x-python",
   "name": "python",
   "nbconvert_exporter": "python",
   "pygments_lexer": "ipython3",
   "version": "3.12.7"
  }
 },
 "nbformat": 4,
 "nbformat_minor": 5
}
