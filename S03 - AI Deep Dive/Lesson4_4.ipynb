{
 "cells": [
  {
   "cell_type": "code",
   "execution_count": 1,
   "id": "42a79cde-6cea-4139-97d8-2e4c4dd11b7b",
   "metadata": {},
   "outputs": [
    {
     "name": "stdout",
     "output_type": "stream",
     "text": [
      "Preprocessed Data:\n",
      "    Age    Salary  Male  Female\n",
      "0 -1.5 -1.322876   0.0     1.0\n",
      "1 -0.5 -0.566947   1.0     0.0\n",
      "2  0.5  0.188982   0.0     1.0\n",
      "3  1.5  0.000000   1.0     0.0\n",
      "4  0.0  1.700840   0.0     1.0\n"
     ]
    }
   ],
   "source": [
    "import pandas as pd\n",
    "from sklearn.preprocessing import OneHotEncoder, StandardScaler\n",
    "\n",
    "# Sample dataset\n",
    "data = {'Age': [25, 30, 35, 40, None], 'Salary': [50000, 60000, 70000, None, 90000], 'Gender': ['Male', 'Female', 'Male', 'Female', 'Male']}\n",
    "df = pd.DataFrame(data)\n",
    "\n",
    "# Handling missing values (fill with mean)\n",
    "df[\"Age\"] = df[\"Age\"].fillna(df[\"Age\"].mean())\n",
    "df[\"Salary\"] = df[\"Salary\"].fillna(df[\"Salary\"].mean())\n",
    "\n",
    "# Encoding categorical variable\n",
    "encoder = OneHotEncoder(sparse_output=False)\n",
    "gender_encoded = encoder.fit_transform(df[['Gender']])\n",
    "df_gender = pd.DataFrame(gender_encoded, columns=['Male', 'Female'])\n",
    "\n",
    "# Scaling numerical features\n",
    "scaler = StandardScaler()\n",
    "df[['Age', 'Salary']] = scaler.fit_transform(df[['Age', 'Salary']])\n",
    "\n",
    "# Concatenating final processed data\n",
    "df_final = pd.concat([df[['Age', 'Salary']], df_gender], axis=1)\n",
    "print(\"Preprocessed Data:\\n\", df_final)\n"
   ]
  },
  {
   "cell_type": "code",
   "execution_count": null,
   "id": "4f21b6d2-489f-402a-a5ca-08b577e05ca6",
   "metadata": {},
   "outputs": [],
   "source": []
  }
 ],
 "metadata": {
  "kernelspec": {
   "display_name": "Python 3 (ipykernel)",
   "language": "python",
   "name": "python3"
  },
  "language_info": {
   "codemirror_mode": {
    "name": "ipython",
    "version": 3
   },
   "file_extension": ".py",
   "mimetype": "text/x-python",
   "name": "python",
   "nbconvert_exporter": "python",
   "pygments_lexer": "ipython3",
   "version": "3.12.7"
  }
 },
 "nbformat": 4,
 "nbformat_minor": 5
}
